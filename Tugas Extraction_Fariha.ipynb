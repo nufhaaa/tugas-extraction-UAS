{
 "cells": [
  {
   "cell_type": "code",
   "execution_count": 2,
   "id": "4ca2fa44-a5f1-4c67-a4e8-cdc2f856a683",
   "metadata": {},
   "outputs": [
    {
     "name": "stdout",
     "output_type": "stream",
     "text": [
      "Requirement already satisfied: nltk in c:\\users\\lenovo\\appdata\\local\\programs\\python\\python311\\lib\\site-packages (3.8.1)\n",
      "Requirement already satisfied: click in c:\\users\\lenovo\\appdata\\local\\programs\\python\\python311\\lib\\site-packages (from nltk) (8.1.6)\n",
      "Requirement already satisfied: joblib in c:\\users\\lenovo\\appdata\\local\\programs\\python\\python311\\lib\\site-packages (from nltk) (1.3.1)\n",
      "Requirement already satisfied: regex>=2021.8.3 in c:\\users\\lenovo\\appdata\\local\\programs\\python\\python311\\lib\\site-packages (from nltk) (2023.6.3)\n",
      "Requirement already satisfied: tqdm in c:\\users\\lenovo\\appdata\\local\\programs\\python\\python311\\lib\\site-packages (from nltk) (4.65.0)\n",
      "Requirement already satisfied: colorama in c:\\users\\lenovo\\appdata\\local\\programs\\python\\python311\\lib\\site-packages (from click->nltk) (0.4.6)\n"
     ]
    },
    {
     "name": "stderr",
     "output_type": "stream",
     "text": [
      "\n",
      "[notice] A new release of pip is available: 23.1.2 -> 23.2.1\n",
      "[notice] To update, run: python.exe -m pip install --upgrade pip\n"
     ]
    },
    {
     "name": "stdout",
     "output_type": "stream",
     "text": [
      "Requirement already satisfied: networkx in c:\\users\\lenovo\\appdata\\local\\programs\\python\\python311\\lib\\site-packages (3.1)\n"
     ]
    },
    {
     "name": "stderr",
     "output_type": "stream",
     "text": [
      "\n",
      "[notice] A new release of pip is available: 23.1.2 -> 23.2.1\n",
      "[notice] To update, run: python.exe -m pip install --upgrade pip\n"
     ]
    }
   ],
   "source": [
    "!pip install nltk\n",
    "!pip install networkx\n"
   ]
  },
  {
   "cell_type": "code",
   "execution_count": 3,
   "id": "b2e537bf-ecdd-4001-bdee-aab26d1c1133",
   "metadata": {},
   "outputs": [],
   "source": [
    "import nltk\n",
    "from nltk.tokenize import word_tokenize, sent_tokenize\n",
    "from nltk.corpus import stopwords\n",
    "from string import punctuation\n",
    "import networkx as nx\n"
   ]
  },
  {
   "cell_type": "code",
   "execution_count": 4,
   "id": "420ced78-b52f-4713-8c4d-8248afdd0481",
   "metadata": {},
   "outputs": [],
   "source": [
    "def preprocess_text(text):\n",
    "    # Tokenisasi kalimat menjadi kalimat-kalimat terpisah\n",
    "    sentences = sent_tokenize(text)\n",
    "\n",
    "    # Tokenisasi kalimat menjadi kata-kata terpisah\n",
    "    words = [word_tokenize(sentence.lower()) for sentence in sentences]\n",
    "\n",
    "    # Menghilangkan stopwords (kata-kata yang tidak memberikan makna)\n",
    "    stop_words = set(stopwords.words(\"english\") + list(punctuation))\n",
    "    filtered_words = [[word for word in sentence if word not in stop_words] for sentence in words]\n",
    "\n",
    "    return filtered_words\n"
   ]
  },
  {
   "cell_type": "code",
   "execution_count": 5,
   "id": "713b2e22-3777-4f85-86a2-f1e4ef95ca36",
   "metadata": {},
   "outputs": [],
   "source": [
    "def create_graph(words):\n",
    "    graph = nx.Graph()\n",
    "    for sentence in words:\n",
    "        for word in sentence:\n",
    "            if word not in graph.nodes():\n",
    "                graph.add_node(word)\n",
    "\n",
    "    # Membuat hubungan antar kata berdasarkan kemunculan bersama dalam satu kalimat\n",
    "    for sentence in words:\n",
    "        for i in range(len(sentence)):\n",
    "            for j in range(i + 1, len(sentence)):\n",
    "                if not graph.has_edge(sentence[i], sentence[j]):\n",
    "                    graph.add_edge(sentence[i], sentence[j])\n",
    "\n",
    "    return graph\n"
   ]
  },
  {
   "cell_type": "code",
   "execution_count": 6,
   "id": "e51c1943-697d-42be-b19b-d549fc7b814a",
   "metadata": {},
   "outputs": [],
   "source": [
    "def textrank_keywords(text, num_keywords=5):\n",
    "    # Pra-pemrosesan teks\n",
    "    words = preprocess_text(text)\n",
    "\n",
    "    # Membangun graf\n",
    "    graph = create_graph(words)\n",
    "\n",
    "    # Menjalankan algoritma TextRank\n",
    "    scores = nx.pagerank(graph)\n",
    "\n",
    "    # Mengurutkan kata-kata berdasarkan skor\n",
    "    ranked_keywords = sorted(scores, key=scores.get, reverse=True)[:num_keywords]\n",
    "\n",
    "    return ranked_keywords\n"
   ]
  },
  {
   "cell_type": "code",
   "execution_count": 7,
   "id": "f7efe3b9-1e17-4a92-8794-a1579adc4ed1",
   "metadata": {},
   "outputs": [
    {
     "name": "stdout",
     "output_type": "stream",
     "text": [
      "Keywords: ['dan', 'yang', 'seperti', 'plat', 'mser']\n"
     ]
    }
   ],
   "source": [
    "# Contoh teks\n",
    "example_text = \"\"\"\n",
    "Pengenalan plat nomor kendaraan sangat mendukung sistem infrastruktur cerdas, seperti: aplikasi pembayaran jalan tol dan parkir, aplikasi monitoring jalan tol, aplikasi monitoring lalu lintas, dan lain sebagainya. Meskipun telah banyak metode pengenalan plat yang telah menunjukkan kinerja menjanjikan, namun beberapa metode mungkin gagal dalam situasi yang lebih kompleks karena kompleksitas seperti variasi posisi dan orientasi plat, berbagai latar belakang, dan benda-benda non-plat. Beberapa penelitian telah dilakukan untuk meningkatkan kinerja deteksi lokasi plat yang difokuskan untuk menemukan deskripsi fitur visual yang kuat untuk berbagai latar belakang dan orientasi plat itu sendiri. Untuk efisiensi pencocokan visual yang lebih tinggi, beberapa detektor keypoint cepat dan deskripsi yang sesuai telah dilakukan penelitian, seperti seperti fitur FAST, SURF, BRISK, Harris Corner. Dan ada juga fitur MSER yang metode pencarian keypoint berdasarkan extremal regionnya. MSER sangat efisien untuk mendeteksi karakter dengan setengah atau daerah tertutup sepenuhnya, terutama pada karakter yang memiliki lubang, seperti 0, 6, 8, 9, A, B, D, P, Q. Namun MSER kurang maksimal dalam mendeteksi karakter yang mempunyai sudut, seperti 1, 7, H, I, dan lain sebagainya. Pada penelitian ini diusulkan penggabungan ekstraksi fitur metode Maximally Stable Extremal Regions (MSER) yang pencarian keypoint dilakukan berdasarkan extremal region dan Harris Corner yang metode pencarian keypoint dilakukan berdasarkan titik pojok (corner detection) diharap dapat meningkatkan akurasi dan waktu \n",
    "komputasional yang optimal pada deteksi lokasi plat nomer kendaraan berdasarkan \n",
    "beragam situasi.\n",
    "\"\"\"\n",
    "\n",
    "# Ekstraksi kata kunci menggunakan TextRank\n",
    "keywords = textrank_keywords(example_text)\n",
    "print(\"Keywords:\", keywords)\n"
   ]
  },
  {
   "cell_type": "code",
   "execution_count": 8,
   "id": "bb01cab2-7326-4421-b5e8-a500bd48f546",
   "metadata": {},
   "outputs": [
    {
     "name": "stdout",
     "output_type": "stream",
     "text": [
      "Keywords: ['perangkat', 'lunak', 'dan', 'faktor', 'yang']\n"
     ]
    }
   ],
   "source": [
    "# Contoh teks\n",
    "example_text = \"\"\"\n",
    "Penelitian ini bertujuan untuk mengembangkan perangkat lunak Sistem Pendukung Keputusan Pemilihan Jurusan di Perguruan Tinggi menggunakan bahasa pemograman Visual Basic dan database MySQL. Penelitian ini meliputi perancangan sistem serta pengujian unjuk kerja sistem perangkat lunak pada faktor kualitas correctness, functionality, usability,danmaintainability. Perangkat lunak dari penelitian ini diharapkan dapat membantu mengarahkan siswa SMA dalam memilih jurusan kuliah yang tepat berdasarkan minat dan jenis kecerdasan yang dimiliki oleh masing-masing siswa. Jenis penelitian ini adalah Research and Development. Metode pengembangan perangkat lunak menggunakan Waterfall Model. Tahapan pertama dilakukan analisa kebutuhan serta melakukan kajian literatur pendukung penelitian. Tahapan kedua dilakukan dengan membuat desain perangkat lunak. Tahapan ketiga yaitu implementasi atau pengkodean. Tahapan terakhiradalah pengujian. Analisis faktor kualitascorrectness dilakukan dengan perhitungan jumlah error / KLOC. Analisis faktor kualitas functionality dilakukan dengan pengujian setiap fungsi aplikasi. Analisis faktor kualitas usability dilakukan dengan metode kuesioner yang dibagikan kepada mahasiswa dan siswa kelas XII SMA Negeri 2 Wates.Analisis faktor kualitas maintainability dilakukan dengan melakukan pengujian pada tiga aspek maintainability yaitu instrumentation, consistency dan simplicity. Berdasarkan hasil pengujian perangkat lunak yang dikembangkan menunjukkan hasil: 1) perancangan aplikasi Sistem Pendukung Keputusan Pemilihan Jurusan di Perguruan Tinggi telah melalui serangkaian proses rekayasa perangkat lunak dari analisis kebutuhan hingga pengujian; 2) hasil analisis kualitas dari aplikasi Sistem Pendukung Keputusan Pemilihan Jurusandi Perguruan Tinggi memenuhi standar faktor kualitas correctness, functionality, usability,dan maintainability.\n",
    "\"\"\"\n",
    "\n",
    "# Ekstraksi kata kunci menggunakan TextRank\n",
    "keywords = textrank_keywords(example_text)\n",
    "print(\"Keywords:\", keywords)\n"
   ]
  },
  {
   "cell_type": "code",
   "execution_count": 9,
   "id": "105f8318-e94e-4ada-8ed8-47744a1dd487",
   "metadata": {},
   "outputs": [
    {
     "name": "stdout",
     "output_type": "stream",
     "text": [
      "Keywords: ['dan', 'yang', 'adalah', 'dengan', '7']\n"
     ]
    }
   ],
   "source": [
    "# Contoh teks\n",
    "example_text = \"\"\"\n",
    "Penelitian ini bertujuan untuk: 1) mengembangkan sistem informasi pengelolaan seminar berbasis web. 2) mengetahui tingkat kualitas sistem informasi pengelolaan seminar berbasis web yang dikembangkan. Metode penelitian yang digunakan pada penelitian ini adalah Research and Development (R&D) dengan model pengembangan waterfall yang mengacu pada kaidah software engineering Pressman (2010). Tahapan-tahapan yang dilalui yaitu komunikasi (communication), perencanaan (planning), pemodelan (modeling), konstruksi (construction), dan pendistribusian (deployment). Analisis kualitas software dilakukan dengan mengadopsi standar ISO 25010 yaitu aspek functional suitabilility, performance efficiency, compatibility, usability, reliability, security, maintainability, dan portability. Hasil dari penelitian ini adalah 1) sistem informasi pengelolaan seminar dibangun dengan bahasa pemrograman PHP dan database Postgre. Framework yang digunakan adalah CodeIgniter dan AdminLTE (Bootstrap). Sistem informasi ini memiliki 7 level user yaitu administrator, panitia (committee), reviewer, pemakalah utama (presenter), pemakalah kedua (non-presenter), peserta (audience), dan pengunjung (guest). 2) hasil analisis kualitas software dengan mengadopsi standar ISO 25010 adalah sebagai berikut: (1) aspek function suitability dengan keberhasilan 100%; (2) aspek performance efficiency memperoleh hasil Yslow score 92.97 (grade A); (3) aspek compability dapat berjalan dengan baik pada 4 web mail yang diujikan; (4) aspek usability diperoleh raw SUS score sebesar 73.00, acceptability ranges dengan hasil acceptable, grade scale dengan hasil C, dan adjective ratings dengan hasil good; (5) aspek reliability dengan hasil 100%; (6) aspek security dengan hasil kerentanan keamanan berada pada tingkat 1 (low); (7) aspek maintainability dengan hasil maintainability index 90.81 (kategori tinggi); (8) aspek portability dapat berjalan dengan baik pada 5 web browser yang diujikan.\n",
    "\"\"\"\n",
    "\n",
    "# Ekstraksi kata kunci menggunakan TextRank\n",
    "keywords = textrank_keywords(example_text)\n",
    "print(\"Keywords:\", keywords)\n"
   ]
  },
  {
   "cell_type": "code",
   "execution_count": 10,
   "id": "9e957209-3899-4d4f-90ec-d8be679fdd74",
   "metadata": {},
   "outputs": [
    {
     "name": "stdout",
     "output_type": "stream",
     "text": [
      "Keywords: ['yang', 'ini', 'aplikasi', 'dan', 'perangkat']\n"
     ]
    }
   ],
   "source": [
    "# Contoh teks\n",
    "example_text = \"\"\"\n",
    "Penelitian ini bertujuan untuk membangun suatu aplikasi yang dapat membantu pengguna dalam mencari dan memberikan informasi mengenai perangkat daerah Kota Bengkulu pada android dengan menerapkan augmented reality menggunakan metode markerless. Pada penerapannya augmented reality bisa diimplementasikan pada perangkat yang memiliki kamera, akselerometer, kompas dan GPS. Data koordinat dan data perangkat daerah Kota Bengkulu di download dari server. Aplikasi ini juga memanfaatkan peta dari google maps dalam menunjukkan lokasi pengguna ke lokasi perangkat daerah Kota Bengkulu yang di cari. Aplikasi ini dibangun dengan menggunakan Wikitude dan bahasa pemrograman Java for Android dengan IDE Eclipse 3.5.Metode pengembangan sistem yang digunakan untuk membangun aplikasi ini adalah model sekuensial linierdan Unified Modeling Language (UML) sebagai perancangan sistem. Penelitian ini menghasilkan sebuah aplikasi layanan berbasis lokasi dengan penerapan augmented reality menggunakan metode markerless berbasis android pada pencarian perangkat daerah Kota Bengkulu.\n",
    "\"\"\"\n",
    "\n",
    "# Ekstraksi kata kunci menggunakan TextRank\n",
    "keywords = textrank_keywords(example_text)\n",
    "print(\"Keywords:\", keywords)\n"
   ]
  },
  {
   "cell_type": "code",
   "execution_count": 11,
   "id": "839c13fe-5548-49ba-b5c2-629194afaf04",
   "metadata": {},
   "outputs": [
    {
     "name": "stdout",
     "output_type": "stream",
     "text": [
      "Keywords: ['ini', 'dengan', 'yang', 'untuk', 'tersebut']\n"
     ]
    }
   ],
   "source": [
    "# Contoh teks\n",
    "example_text = \"\"\"\n",
    "Kecanggihan teknologi saat ini bisa membuat penggunanya memiliki penghasilan tambahan atau bahkan penghasilan tetap. Salah satu contohnya adalah para influencer atau selebgram medial sosial seperti Instagram, Youtube, atau Tiktok. Dengan membuat konten pada aplikasi tersebut maka pengguna bisa mendapatkan uang. Selain membuat konten biasanya juga menerima jasa iklan untuk suatu produk tertentu. Dengan kecanggihan tersebut, aplikasi Batiqun hadir sebagai platform untuk memperjual-belikan sebuah karya digital yang unik khas Indonesia yaitu desain Batik. Teknologi yang akan digunakan dalam jual beli ini menggunakan NFT sehingga jual beli tersebut menggunakan crypto sehingga terjamin keaslian pemiliki desainnya. Dalam aplikasi Batiqun membutuhkan sebuah modul admin dan penjualan sebagai tempat untuk mengelola data penjualan dan autentikasi karya sebelum di perjual belikan kepada pengguna. Pengembangan modul ini akan di bantu oleh framework ReactJs dengan state management redux agar memudahkan implementasi microservice web. Penelitian ini juga melakukan beberapa tahapan mulai dari wawancara yang dilakukan dengan APPBI (Asosiasi Pengusaha dan Pengrajin Batik Indonesia), Pengusaha Batik Banyu Pekalongan, dan Mahasiswa Desain Grafis. Hal tersebut tentunya untuk menunjang data penelitian yang dibutuhkan. Setelah melalui beberapa tahapan dan melakukan implementasi rancang bangun aplikasi Batiqun dengan modul admin dan penjualan ini selesai.\n",
    "\"\"\"\n",
    "\n",
    "# Ekstraksi kata kunci menggunakan TextRank\n",
    "keywords = textrank_keywords(example_text)\n",
    "print(\"Keywords:\", keywords)\n"
   ]
  },
  {
   "cell_type": "code",
   "execution_count": 12,
   "id": "e2a5a228-6a2b-4a74-8027-219e6d98ad37",
   "metadata": {},
   "outputs": [
    {
     "name": "stdout",
     "output_type": "stream",
     "text": [
      "Keywords: ['dan', 'dengan', 'surat', 'informasi', 'yang']\n"
     ]
    }
   ],
   "source": [
    "# Contoh teks\n",
    "example_text = \"\"\"\n",
    "Perkembangan teknologi informasi yang pesat belakangan ini telah memasuki hampir semua bidang kehidupan, hal ini ditandai dengan banyaknya pengguna komputer baik kepentingan perusahaan bisnis sampai dengan hal-hal yang bersifat hiburan, pendidikan dan kesehatan. Perkembagan ini didukung oleh industri hardware dan software yang terus berkembang dan semua ini telah memberikan banyak dampak positif bagi kehidupan masyarakat, yakni dengan pengaksesan dan pemrosesan informasi yang cepat, akurat dan efisien. Korespondensi dalam kegiatan perkantoran diartikan sebagai teknik membuat surat dan berkomunikasi dengan surat. Sedangkan pengertian surat adalah alat komunikasi tertulis berasal dari satu pihak dan ditujukan kepada pihak lain dengan tujuan menyampaikan informasi. Adapun pengertian surat dinas adalah surat yang dipergunakan untuk kepentingan pekerjaan, tugas dari kantor atau kegiatan dinas. Surat ini berasal dari instansi atau lembaga baik swasta maupun negeri. Contoh surat tugas, surat perintah, memorandum, dan surat keputusan.\n",
    "\"\"\"\n",
    "\n",
    "# Ekstraksi kata kunci menggunakan TextRank\n",
    "keywords = textrank_keywords(example_text)\n",
    "print(\"Keywords:\", keywords)\n"
   ]
  },
  {
   "cell_type": "code",
   "execution_count": 13,
   "id": "ab327ea4-b50f-4f32-878c-2d56824d54d6",
   "metadata": {},
   "outputs": [
    {
     "name": "stdout",
     "output_type": "stream",
     "text": [
      "Keywords: ['dengan', 'bahasa', 'arab', 'yang', 'algoritma']\n"
     ]
    }
   ],
   "source": [
    "# Contoh teks\n",
    "example_text = \"\"\"\n",
    "Belajar bahasa arab sangat dianjurkan bagi umat muslim bahkan sejak usia dini. Namun, mempelajari bahasa arab banyak dianggap tidak menyenangkan karena sulit dipelajari dan membosankan. Oleh sebab itu, perlu adanya sebuah cara agar belajar bahasa arab tidak jenuh, salah satunya yaitu dengan membungkusnya menjadi sebuah Gim. Sehingga Penulis membuat sebuah gim pembelajaran bahasa arab khusus fitur “Berbicara” atau dalam bahasa arab disebut كلم) kalam) yang berguna untuk mengenali suara yang pengguna sebutkan. Fitur tersebut dibuat dengan konsep Artificial Neural Network (Jaringan Syaraf Tiruan) dengan memanfaatkan algoritma CNN (Convolutional Neural network) berdimensi 1. Suara yang diterima dari pengguna akan diekstraksi menggunakan algoritma MFCC (Mel Frequency Ceptral Coefficient), setelah itu data sinyal suara tersebut akan dioper ke dalam Neural Network. Performa model dengan ekstraksi MFCC dan algoritma CNN dimensi 1 cukup baik dengan akurasi mencapai 95,52% dan validasi akurasi sebesar 95,50%. Serta menyanggah penelitian (P. Zhou et al., 2020) yang beranggapan optimizer SGD lebih baik daripada Adam dengan klaim SGD lebih stabil karena mengeneralisasi data, namun nyatanya penelitian ini mendukung penelitian dari (Gupta et al., n.d.) yang menyatakan bahwa optimizer Adam lebih mengeneralisasi lebih baik daripada optimizer SGD.\n",
    "\"\"\"\n",
    "\n",
    "# Ekstraksi kata kunci menggunakan TextRank\n",
    "keywords = textrank_keywords(example_text)\n",
    "print(\"Keywords:\", keywords)\n"
   ]
  },
  {
   "cell_type": "code",
   "execution_count": null,
   "id": "48b4efbd-1f5c-4532-b508-b01eb2bc2925",
   "metadata": {},
   "outputs": [],
   "source": []
  }
 ],
 "metadata": {
  "kernelspec": {
   "display_name": "Python 3 (ipykernel)",
   "language": "python",
   "name": "python3"
  },
  "language_info": {
   "codemirror_mode": {
    "name": "ipython",
    "version": 3
   },
   "file_extension": ".py",
   "mimetype": "text/x-python",
   "name": "python",
   "nbconvert_exporter": "python",
   "pygments_lexer": "ipython3",
   "version": "3.11.4"
  }
 },
 "nbformat": 4,
 "nbformat_minor": 5
}
